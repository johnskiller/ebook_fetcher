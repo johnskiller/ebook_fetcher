{
 "cells": [
  {
   "cell_type": "code",
   "execution_count": 1,
   "metadata": {},
   "outputs": [],
   "source": [
    "from bs4 import BeautifulSoup"
   ]
  },
  {
   "cell_type": "code",
   "execution_count": 31,
   "metadata": {},
   "outputs": [],
   "source": [
    "SOURCE=\"/Users/john/Documents/诡秘之主/\"\n",
    "DEST=\"/Users/john/Documents/gm/\"\n",
    "filename='1000039.html'\n",
    "soup=BeautifulSoup(open(SOURCE+filename,encoding=\"gbk\"))"
   ]
  },
  {
   "cell_type": "code",
   "execution_count": 34,
   "metadata": {},
   "outputs": [],
   "source": [
    "def process_html(filename):\n",
    "    soup=BeautifulSoup(open(SOURCE+filename,encoding=\"gbk\"))\n",
    "    content=soup.select(\"#content\")\n",
    "    h1=soup.select('body h1')\n",
    "    \n",
    "    foot_link = soup.select('div .bottem2 a')\n",
    "    li = filter(lambda x: x.getText()=='上一章' or x.getText() == '下一章', foot_link)\n",
    "    nav = \", \".join(map(str,li))\n",
    "    temp='''\n",
    "<!DOCTYPE html>\n",
    "<html lang=\"zh\">\n",
    "<head>\n",
    "        <meta charset=\"UTF-8\">\n",
    "        <meta name=\"viewport\" content=\"width=device-width, initial-scale=1.0\">\n",
    "        <title>Document</title>\n",
    "</head>\n",
    "<body>\n",
    "%s\n",
    "%s     \n",
    "<div class=\"nav\">\n",
    "%s\n",
    "</div>   \n",
    "</body>\n",
    "</html>\n",
    "'''\n",
    "    #print(len(content),len(h1))\n",
    "    if len(content) == 1:\n",
    "        #print(temp%(h1[0],nav))\n",
    "        with open(DEST+filename,'w',encoding='utf-8') as wh:\n",
    "            wh.write(temp%(h1[0],content[0],nav))\n"
   ]
  },
  {
   "cell_type": "code",
   "execution_count": 35,
   "metadata": {},
   "outputs": [],
   "source": [
    "process_html('1000039.html')"
   ]
  },
  {
   "cell_type": "code",
   "execution_count": 3,
   "metadata": {},
   "outputs": [],
   "source": [
    "al = soup.select('div .bottem2 a')"
   ]
  },
  {
   "cell_type": "code",
   "execution_count": 18,
   "metadata": {},
   "outputs": [
    {
     "output_type": "execute_result",
     "data": {
      "text/plain": "'<a href=\"999263.html\">上一章</a>, <a href=\"1002310.html\">下一章</a>'"
     },
     "metadata": {},
     "execution_count": 18
    }
   ],
   "source": [
    "li = filter(lambda x: x.getText()=='上一章' or x.getText() == '下一章', al)\n",
    "nav = \", \".join(map(str,li))"
   ]
  },
  {
   "cell_type": "code",
   "execution_count": 36,
   "metadata": {},
   "outputs": [],
   "source": [
    "soup=BeautifulSoup(open(SOURCE+'a.html',encoding='utf-8'))\n",
    "links = soup.select('body a')\n",
    "previews = []\n",
    "urls = list(map(lambda x: x.get('href'),links))\n"
   ]
  },
  {
   "cell_type": "code",
   "execution_count": 37,
   "metadata": {},
   "outputs": [],
   "source": [
    "for u in urls:\n",
    "    process_html(u)"
   ]
  },
  {
   "cell_type": "code",
   "execution_count": 25,
   "metadata": {},
   "outputs": [
    {
     "output_type": "execute_result",
     "data": {
      "text/plain": "map"
     },
     "metadata": {},
     "execution_count": 25
    }
   ],
   "source": [
    "type(urls)"
   ]
  },
  {
   "cell_type": "code",
   "execution_count": null,
   "metadata": {},
   "outputs": [],
   "source": []
  }
 ],
 "metadata": {
  "language_info": {
   "codemirror_mode": {
    "name": "ipython",
    "version": 3
   },
   "file_extension": ".py",
   "mimetype": "text/x-python",
   "name": "python",
   "nbconvert_exporter": "python",
   "pygments_lexer": "ipython3",
   "version": "3.6.7-final"
  },
  "orig_nbformat": 2,
  "kernelspec": {
   "name": "python36764bitbasecondae4e6cf440a1144158be7e84651725907",
   "display_name": "Python 3.6.7 64-bit ('base': conda)"
  }
 },
 "nbformat": 4,
 "nbformat_minor": 2
}